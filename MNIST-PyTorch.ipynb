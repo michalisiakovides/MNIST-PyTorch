{
 "cells": [
  {
   "cell_type": "markdown",
   "metadata": {
    "id": "jm6Eq9Q8Hwju"
   },
   "source": [
    "# Assignment Brief: Convolutional Neural Networks in PyTorch  \n",
    "\n",
    "## Deadline: 15 December 2023, 17:00 GMT\n",
    "\n",
    "## Number of marks available: 10\n",
    "\n",
    "In this practical, we will build a convolutional neural network to classify handwritten digits. More specifically, we will use the MNIST dataset to implement and evaluate a neural network-based model for classification of handwritten digits. The main aim is for you to learn, enjoy, and hopefully benefit from it.\n",
    "\n",
    "You should implement and test your solution in PyTorch.\n",
    "\n",
    "### Please READ the whole assignment first, before starting to work on it.\n",
    "\n",
    "### How and what to submit\n",
    "\n",
    "A. A **Jupyter Notebook** with the code in all the cells executed and outputs displayed.\n",
    "\n",
    "B. Name your Notebook **COMP61011_AssignmentB2_XXXXXX.ipynb** where XXXXXX is your username such as such as abc18de. Example: `COMP61011_AssignmentB2_abc18de.ipynb`\n",
    "\n",
    "C. Upload the Jupyter Notebook in B to Blackboard under the **Group B: Computing Assignment (PyTorch)** submission area before the deadline. **There are two submissions: please pay close attention to submit to the right place!**\n",
    "\n",
    "D. **NO DATA UPLOAD**: Please do not upload the data files used in this Notebook. We have a copy already.\n",
    "\n",
    "\n",
    "### Assessment Criteria\n",
    "\n",
    "* Being able to use PyTorch to build, train, and evaluate a Convolutional Neural Network for supervised learning.\n",
    "\n",
    "* Understanding the architecture of a Convolutional Neural Network, and gaining practical experience in designing and training such a network.\n",
    "\n",
    "* Understanding concepts such as convolution, pooling, and padding, and how they are used in a Convolutional Neural Network. Understanding loss and activation functions.\n",
    "\n",
    "* Being able to monitor and report the performance of a neural network on a given dataset with respect to accuracy and the chosen loss function.\n",
    "\n",
    "\n",
    "### Late submissions\n",
    "\n",
    "We follow Department's guidelines about late submissions, i.e., a deduction of 10% of the mark each 24 hours the work is late after the deadline. NO late submission will be marked one week after the deadline. Please read [this link](https://wiki.cs.manchester.ac.uk/index.php/UGHandbook23:Main#Late_Submission_of_Coursework_Penalty).\n",
    "\n",
    "### Use of unfair means\n",
    "\n",
    "**Any form of unfair means is treated as a serious academic offence and action may be taken under the Discipline Regulations.** Please carefully read [what constitutes Unfair Means](https://documents.manchester.ac.uk/display.aspx?DocID=2870) if not sure. If you still have questions, please ask your Personal tutor or the Lecturers."
   ]
  },
  {
   "cell_type": "markdown",
   "metadata": {
    "id": "3OYUlyXPHwjx"
   },
   "source": [
    "## Background\n",
    "\n",
    "Read about convolution and [how 2-D convolution](https://pytorch.org/docs/stable/generated/torch.nn.Conv2d.html) and  [Max-pooling](https://pytorch.org/docs/stable/generated/torch.nn.MaxPool2d.html) are implemented in PyTorch.\n",
    "\n",
    "It would help you review the lecture notes to understand how the size of the next layer is computed; you may need to specify these as parameters, rather than them being inferred based on the model specification. Also be sure to understand the difference between `valid` and `same` padding. It'll help to understand how the sizes are affected by strides, padding, etc., in order to implement the network properly.\n",
    "\n",
    "For further reading on CNNs, you may wish to visit the [CS132n course site](https://cs231n.github.io/convolutional-networks/). For a much more in-depth guide to convolution arithmetic, see [this 2016 paper](https://arxiv.org/pdf/1603.07285v1.pdf)."
   ]
  },
  {
   "cell_type": "markdown",
   "metadata": {
    "id": "wjo6ojieHwjz"
   },
   "source": [
    "## Loading the MNIST dataset\n",
    "For your convenience, the required python modules for this assignment have been provided in `requirements.txt`. You can run the following terminal command to install them: `python -m pip install -r requirements.txt`\n",
    "\n",
    "A copy of the MNIST dataset is included in PyTorch. We will download it, then load it into memory using the `torchvision` module."
   ]
  },
  {
   "cell_type": "code",
   "execution_count": 3,
   "metadata": {
    "colab": {
     "base_uri": "https://localhost:8080/"
    },
    "id": "mbzZ9urYHwj0",
    "outputId": "b79c1991-6c89-4623-b1f4-d155ef4a70be"
   },
   "outputs": [
    {
     "data": {
      "text/plain": [
       "Dataset MNIST\n",
       "    Number of datapoints: 60000\n",
       "    Root location: \n",
       "    Split: Train\n",
       "    StandardTransform\n",
       "Transform: Compose(\n",
       "               ToTensor()\n",
       "               Normalize(mean=(0.1307,), std=(0.3081,))\n",
       "           )"
      ]
     },
     "execution_count": 3,
     "metadata": {},
     "output_type": "execute_result"
    }
   ],
   "source": [
    "import torch, torchvision\n",
    "import numpy as np\n",
    "import matplotlib.pyplot as plt\n",
    "from torchsummary import summary\n",
    "\n",
    "# The values 0.1307 and 0.3081 used for the Normalize() transformation below are the global mean and standard\n",
    "# deviation of the MNIST dataset. This is equivalent to scaling all pixel values between [0, 1].\n",
    "transform = torchvision.transforms.Compose([\n",
    "              torchvision.transforms.ToTensor(),\n",
    "              torchvision.transforms.Normalize(\n",
    "                (0.1307,), (0.3081,))\n",
    "            ])\n",
    "\n",
    "train_data = torchvision.datasets.MNIST('', train=True, download=True, transform=transform)\n",
    "test_data = torchvision.datasets.MNIST('', train=False, download=True, transform=transform)\n",
    "\n",
    "# We can see some information about this data, including the transform we've applied.\n",
    "train_data"
   ]
  },
  {
   "cell_type": "code",
   "execution_count": 4,
   "metadata": {
    "colab": {
     "base_uri": "https://localhost:8080/",
     "height": 807
    },
    "id": "l8hNBF0sHwj3",
    "outputId": "5f57a009-e483-4f03-c6bc-43ef65137085"
   },
   "outputs": [
    {
     "data": {
      "image/png": "[encoded data removed]",
      "text/plain": [
       "<Figure size 720x720 with 16 Axes>"
      ]
     },
     "metadata": {},
     "output_type": "display_data"
    }
   ],
   "source": [
    "# Visualize the first 16 elements of the training set\n",
    "fig = plt.figure(figsize=(10, 10))\n",
    "for i in range(16):\n",
    "    ax = fig.add_subplot(4, 4, i + 1)\n",
    "    ax.set_xticks(())\n",
    "    ax.set_yticks(())\n",
    "    ax.imshow(train_data.data[i], cmap='gray')"
   ]
  },
  {
   "cell_type": "markdown",
   "metadata": {
    "id": "pflzr9qFHwj5"
   },
   "source": [
    "## Convolutional Neural Network (3 marks)\n",
    "\n",
    "Write a CNN class which defines your model. We will base our CNN on the LeNet-5 architecture, which is a classic CNN architecture for image classification. You can read more about it [here](http://vision.stanford.edu/cs598_spring07/papers/Lecun98.pdf).\n",
    "\n",
    "Below is the CNN configuration, which achieves above 98% accuracy in the training, validation and testing. If you deviate from the below configuration, you **must** include comments explaining your changes. Failure to do so will mean you will lose marks on this section.\n",
    "\n",
    "- The inputs to the first layer should be 28x28x1 images (1 because these are grey scale), and this is the expected input of the model.\n",
    "- Add a convolutional layer with 28 filters of size 5x5x1 (and the ReLU non-linearity). Use a stride of 1 in both directions, and add padding as necessary.\n",
    "- PyTorch automatically initialises weights in most cases, but to demonstrate how it's done it here, we'll initialise weights as Gaussian random variables with mean 0 and variance 0.0025. For biases we'll initialise everything with a constant 0.1. This is because we're mainly going to be using ReLU non-linearities. **Please ensure that you demonstrate how to manually initialise weights and biases, this will be marked.**\n",
    "- Add a max_pooling layer with pool size 2x2 and 2 stride.\n",
    "- Add a second convolutional layer with 16 filters of size 5x5x28. Again, use a stride of 1 in both directions, and use the ReLU non-linearity. Ensure there is no padding. Initialise the weights and biases as in the first convolution layer.\n",
    "- Add a max_pooling layer with pool size 2x2 and 2 stride.\n",
    "- Add a Flatten-type layer: https://pytorch.org/docs/stable/generated/torch.flatten.html.\n",
    "- Add a fully connected (dense) layer with 1024 units. Each unit in the max_pool should be connected to these 1024 units. Add the ReLU non-linearity to these units.\n",
    "- Add another dense layer with 128 units, and add the ReLU non-linearity.\n",
    "- Add a Dropout layer to reduce overfitting, with a 0.2 rate.\n",
    "- Add a final fully connected layer to get 10 output units, and a `log_softmax` activation function.\n",
    "\n",
    "Finally, use the [pytorch-summary](https://github.com/sksq96/pytorch-summary) package to check the configuration of your CNN model."
   ]
  },
  {
   "cell_type": "code",
   "execution_count": 12,
   "metadata": {
    "id": "p6b4nSjcHwj5"
   },
   "outputs": [],
   "source": [
    "# Define the model\n",
    "class CNN(torch.nn.Module):\n",
    "    # Your code here\n",
    "    def __init__(self):\n",
    "        super(CNN, self).__init__()\n",
    "\n",
    "        #Convolutional Layer 1\n",
    "        #output size = 1 + (input size - kernel size + 2*padding)/stride\n",
    "        #28 = 1 + (28 - 5 + 2*padding)/1 => padding = 2\n",
    "        self.conv1 = torch.nn.Conv2d(1, 28, kernel_size=(5,5), stride=1, padding=2)           \n",
    "\n",
    "        #Weight initialisation with mean 0 and variance 0.0025. \n",
    "        variance = 0.0025\n",
    "        std_dev = torch.sqrt(torch.tensor(variance))                     #Standard deviation is the square root of variance.\n",
    "        torch.nn.init.normal_(self.conv1.weight, mean=0, std=std_dev)\n",
    "        torch.nn.init.constant_(self.conv1.bias, 0.1)\n",
    "\n",
    "        #Max Pooling Layer 1\n",
    "        self.pool1 = torch.nn.MaxPool2d(kernel_size=(2,2), stride=2)\n",
    "\n",
    "        #Convolutional Layer 2\n",
    "        self.conv2 = torch.nn.Conv2d(28, 16, kernel_size=(5,5), stride=1, padding=0)\n",
    "        \n",
    "        #Weight initialisation as in the Convolutional Layer 1. \n",
    "        torch.nn.init.normal_(self.conv2.weight, mean=0, std=std_dev)\n",
    "        torch.nn.init.constant_(self.conv2.bias, 0.1)\n",
    "\n",
    "        #Max Pooling Layer 2\n",
    "        self.pool2 = torch.nn.MaxPool2d(kernel_size=(2,2), stride=2)\n",
    "\n",
    "        #Flatten Layer\n",
    "        self.flatten = torch.nn.Flatten()\n",
    "\n",
    "        #Fully Connected Layer 1\n",
    "        self.fc1 = torch.nn.Linear(16 * 5 * 5, 1024)\n",
    "\n",
    "        #Fully Connected Layer 2\n",
    "        self.fc2 = torch.nn.Linear(1024, 128)\n",
    "\n",
    "        #Dropout Layer\n",
    "        self.dropout = torch.nn.Dropout(0.2)\n",
    "\n",
    "        #Final Fully Connected Layer\n",
    "        self.fc3 = torch.nn.Linear(128, 10)\n",
    "\n",
    "        #Log Softmax Activation\n",
    "        self.log_softmax = torch.nn.LogSoftmax(dim=1)\n",
    " \n",
    "        #ReLU Activation Function\n",
    "        self.relu = torch.nn.ReLU()\n",
    "\n",
    "    def forward(self, x):\n",
    "        # Forward Pass through the layers\n",
    "        x = self.relu(self.conv1(x))                       # Apply the first convolutional layer followed by the ReLU activation\n",
    "        x = self.pool1(x)                                  # Apply the first max-pooling layer\n",
    "        x = self.relu(self.conv2(x))                       # Apply the second convolutional layer followed by the ReLU activation\n",
    "        x = self.pool2(x)                                  # Apply the second max-pooling layer\n",
    "        x = self.flatten(x)                                # Flatten the output before passing it through the first fully connected layer\n",
    "        x = self.relu(self.fc1(x))                         # Apply the first fully connected layer followed by the ReLU activation\n",
    "        x = self.relu(self.fc2(x))                         # Apply the second fully connected layer followed by the ReLU activation\n",
    "        x = self.dropout(x)                                # Apply dropout to prevent overfitting\n",
    "        x = self.fc3(x)                                    # Apply the final fully connected layer without activation\n",
    "        output = self.log_softmax(x)                       # Apply the log softmax activation for output probabilities\n",
    "        return output\n"
   ]
  },
  {
   "cell_type": "code",
   "execution_count": 13,
   "metadata": {
    "colab": {
     "base_uri": "https://localhost:8080/"
    },
    "id": "BlnUFNY9Hwj6",
    "outputId": "b76cf3f3-1bfb-4465-fa4c-41ba7e2e8c89"
   },
   "outputs": [
    {
     "name": "stdout",
     "output_type": "stream",
     "text": [
      "----------------------------------------------------------------\n",
      "        Layer (type)               Output Shape         Param #\n",
      "================================================================\n",
      "            Conv2d-1           [-1, 28, 28, 28]             728\n",
      "              ReLU-2           [-1, 28, 28, 28]               0\n",
      "         MaxPool2d-3           [-1, 28, 14, 14]               0\n",
      "            Conv2d-4           [-1, 16, 10, 10]          11,216\n",
      "              ReLU-5           [-1, 16, 10, 10]               0\n",
      "         MaxPool2d-6             [-1, 16, 5, 5]               0\n",
      "           Flatten-7                  [-1, 400]               0\n",
      "            Linear-8                 [-1, 1024]         410,624\n",
      "              ReLU-9                 [-1, 1024]               0\n",
      "           Linear-10                  [-1, 128]         131,200\n",
      "             ReLU-11                  [-1, 128]               0\n",
      "          Dropout-12                  [-1, 128]               0\n",
      "           Linear-13                   [-1, 10]           1,290\n",
      "       LogSoftmax-14                   [-1, 10]               0\n",
      "================================================================\n",
      "Total params: 555,058\n",
      "Trainable params: 555,058\n",
      "Non-trainable params: 0\n",
      "----------------------------------------------------------------\n",
      "Input size (MB): 0.00\n",
      "Forward/backward pass size (MB): 0.43\n",
      "Params size (MB): 2.12\n",
      "Estimated Total Size (MB): 2.55\n",
      "----------------------------------------------------------------\n"
     ]
    }
   ],
   "source": [
    "# your code here\n",
    "#Create an instance of the CNN model\n",
    "model = CNN()\n",
    "\n",
    "#Display a summary of the model architecture\n",
    "summary(model, (1, 28, 28))"
   ]
  },
  {
   "cell_type": "markdown",
   "metadata": {
    "id": "zINGVMbbHwj8"
   },
   "source": [
    "## Loss function, accuracy and train/test algorithm (3 marks)\n",
    "\n",
    "- We'll use the cross-entropy loss function, also called the negative log likelihood loss in PyTorch.\n",
    "- Accuracy is simply defined as the fraction of data correctly classified.\n",
    "- For training, use the [SGD optimiser](https://pytorch.org/docs/stable/generated/torch.optim.SGD.html) (read the documentation) and set the learning rate to be 1e-2 and momentum to be 0.9.\n",
    "- Further split the training set into train and validation sets (use 10% for validation) and record the training and validation accuracy for each training epoch; however, do not touch the test dataset.\n",
    "- You may find it useful to print the accuracy or loss every 100 batches or so, to see how the training is progressing. This is not required."
   ]
  },
  {
   "cell_type": "code",
   "execution_count": 14,
   "metadata": {
    "colab": {
     "base_uri": "https://localhost:8080/"
    },
    "id": "9coeto9wHwj9",
    "outputId": "5e6dac45-e880-48d0-9cf2-0488e90c243b"
   },
   "outputs": [],
   "source": [
    "# PyTorch requires that we specify a device. This is the CPU or GPU that PyTorch will use to run the model.\n",
    "device = torch.device('cuda' if torch.cuda.is_available() else 'cpu')\n",
    "\n",
    "# Your code here\n",
    "from torch.utils.data import DataLoader, random_split\n",
    "model.to(device)                                         #Assign the model to a device\n",
    "\n",
    "loss_func = torch.nn.CrossEntropyLoss()                                 #Define the CrossEntropyLoss as the loss function\n",
    "optimizer = torch.optim.SGD(model.parameters(), lr=1e-2, momentum=0.9)  #Define Stochastic Gradient Descent (SGD) as the optimizer\n",
    "\n",
    "# Split the dataset into train and validation sets\n",
    "total_observations = len(train_data)\n",
    "train_percent = total_observations*0.9\n",
    "val_percent = total_observations*0.1\n",
    "\n",
    "#Training set: 90% of the total observations\n",
    "#Validation set: 10% of the total observations\n",
    "train_set, val_set = random_split(train_data, [int(train_percent), int(val_percent)])\n",
    "\n",
    "#DataLoader for train_set with a batch size of 32 and shuffling\n",
    "train_set_load = DataLoader(train_set, batch_size=32, shuffle=True)\n",
    "\n",
    "#DataLoader for val_set with a batch size of 32 and no shuffling\n",
    "val_set_load = DataLoader(val_set, batch_size=32, shuffle=False)\n",
    "\n",
    "\n",
    "def train(num_epochs, model, train_set_load, val_set_load, loss_func, optimizer):\n",
    "    train_set_losses = []         #List of training set losses per epoch\n",
    "    train_set_accuracies = []     #List of training set accuracies per epoch\n",
    "    val_set_losses = []           #List of validation set losses per epoch\n",
    "    val_set_accuracies = []       #List of validation set accuracies per epoch\n",
    "\n",
    "    for epoch in range(num_epochs):\n",
    "        model.train()                   #Set the model to training mode\n",
    "\n",
    "        train_total_loss = 0             \n",
    "        train_correct = 0              #Initialise variables to keep track of correct predictions and total samples\n",
    "        train_total = 0\n",
    "        \n",
    "        #Iterate over batches in the training set\n",
    "        for train_batch, (train_feat, train_label) in enumerate(train_set_load):                 \n",
    "            optimizer.zero_grad()                                      #Zero the gradients in the optimizer to avoid accumulation from previous iterations\n",
    "            train_output = model(train_feat)                           #Forward pass: compute the output predictions by passing the training features\n",
    "            train_loss = loss_func(train_output, train_label)          #Compute the training loss by comparing the predicted output with the actual labels\n",
    "            train_loss.backward()                                      #Backward pass: compute gradients of the loss with respect to model parameters\n",
    "            optimizer.step()                                           #Update the model parameters using the computed gradients and the optimizer's update rule\n",
    "\n",
    "            train_total_loss += train_loss.item()\n",
    "            \n",
    "            #Compare the predicted labels with the true labels\n",
    "            _, predicted = torch.max(train_output.data, 1)\n",
    "            \n",
    "            #Count correct predictions and total samples\n",
    "            train_total += train_label.size(0)\n",
    "            train_correct += (predicted == train_label).sum().item()\n",
    "\n",
    "            #Print train loss every 100 batches(optional)\n",
    "            #if train_batch % 100 == 0: \n",
    "                #print(f'Epoch {epoch + 1}, Batch {train_batch}, Loss: {train_loss.item()}')\n",
    "\n",
    "        # Calculate training set accuracy and loss\n",
    "        train_set_accuracies.append(train_correct / train_total)\n",
    "        train_set_losses.append(train_total_loss / len(train_set_load))\n",
    "\n",
    "\n",
    "        # Validation\n",
    "        model.eval()            #Set the model to evaluation mode\n",
    "        val_correct = 0         #Initialise variables to keep track of correct predictions and total samples\n",
    "        val_total = 0\n",
    "        val_total_loss = 0\n",
    "        \n",
    "        #Disable gradient calculation during validation\n",
    "        with torch.no_grad():                              \n",
    "            \n",
    "            #Iterate over batches in the validation set\n",
    "            for val_feat, val_label in val_set_load:\n",
    "                val_output = model(val_feat)                         #Forward pass: compute the output predictions by passing the validation features\n",
    "            \n",
    "                val_loss = loss_func(val_output, val_label)          #Compute the validation loss by comparing the predicted output with the actual labels\n",
    "                val_total_loss += val_loss.item()\n",
    "            \n",
    "                #Compare the predicted labels with the true labels \n",
    "                _, predicted = torch.max(val_output.data, 1)\n",
    "                \n",
    "                #Count correct predictions and total samples\n",
    "                val_total += val_label.size(0)\n",
    "                val_correct += (predicted == val_label).sum().item()\n",
    "\n",
    "        # Calculate validation set accuracy and loss\n",
    "        val_set_accuracies.append(val_correct / val_total)\n",
    "        val_set_losses.append(val_total_loss / len(val_set_load))\n",
    "\n",
    "\n",
    "    return train_set_losses, train_set_accuracies, val_set_losses,val_set_accuracies"
   ]
  },
  {
   "cell_type": "markdown",
   "metadata": {
    "id": "MvmfLnYaHwj-"
   },
   "source": [
    "## Training and evaluation (2 marks)\n",
    "Train and evaluate your model on the MNIST dataset. It would help to use minibatches (e.g. of size 32). Try about 50 training epochs. You may want to start out with fewer epochs to make sure your code is making good progress. Once you are sure your code is correct, you can let it run for more iterations - it will take a bit of time for the model to finish training. Once you are sure your optimisation is working properly, you should run the resulting model on the test data.\n",
    "\n",
    "**Make sure your model has fully converged before running on the test data.** A good way to check this is by looking at the loss and accuracy curves."
   ]
  },
  {
   "cell_type": "code",
   "execution_count": 15,
   "metadata": {
    "id": "1x5lBnpfHwj_"
   },
   "outputs": [
    {
     "name": "stdout",
     "output_type": "stream",
     "text": [
      "Epoch 1, Batch 0, Loss: 2.3038275241851807\n",
      "Epoch 1, Batch 100, Loss: 0.38533473014831543\n",
      "Epoch 1, Batch 200, Loss: 0.15624909102916718\n",
      "Epoch 1, Batch 300, Loss: 0.1230439841747284\n",
      "Epoch 1, Batch 400, Loss: 0.20335926115512848\n",
      "Epoch 1, Batch 500, Loss: 0.13986077904701233\n",
      "Epoch 1, Batch 600, Loss: 0.07993092387914658\n",
      "Epoch 1, Batch 700, Loss: 0.5872190594673157\n",
      "Epoch 1, Batch 800, Loss: 0.0483052060008049\n",
      "Epoch 1, Batch 900, Loss: 0.0522274374961853\n",
      "Epoch 1, Batch 1000, Loss: 0.05666223540902138\n",
      "Epoch 1, Batch 1100, Loss: 0.0685986801981926\n",
      "Epoch 1, Batch 1200, Loss: 0.29913249611854553\n",
      "Epoch 1, Batch 1300, Loss: 0.23432773351669312\n",
      "Epoch 1, Batch 1400, Loss: 0.0030161761678755283\n",
      "Epoch 1, Batch 1500, Loss: 0.014178600162267685\n",
      "Epoch 1, Batch 1600, Loss: 0.005798863247036934\n",
      "Epoch 2, Batch 0, Loss: 0.15344052016735077\n",
      "Epoch 2, Batch 100, Loss: 0.12853506207466125\n",
      "Epoch 2, Batch 200, Loss: 0.001156840124167502\n",
      "Epoch 2, Batch 300, Loss: 0.019345127046108246\n",
      "Epoch 2, Batch 400, Loss: 0.07568004727363586\n",
      "Epoch 2, Batch 500, Loss: 0.1870010644197464\n",
      "Epoch 2, Batch 600, Loss: 0.003370316931977868\n",
      "Epoch 2, Batch 700, Loss: 0.1419575810432434\n",
      "Epoch 2, Batch 800, Loss: 0.003994823433458805\n",
      "Epoch 2, Batch 900, Loss: 0.05024725943803787\n",
      "Epoch 2, Batch 1000, Loss: 0.2398098111152649\n",
      "Epoch 2, Batch 1100, Loss: 0.006406980566680431\n",
      "Epoch 2, Batch 1200, Loss: 0.13987338542938232\n",
      "Epoch 2, Batch 1300, Loss: 0.0021043443121016026\n",
      "Epoch 2, Batch 1400, Loss: 0.0016773591050878167\n",
      "Epoch 2, Batch 1500, Loss: 0.07138780504465103\n",
      "Epoch 2, Batch 1600, Loss: 0.0019468647660687566\n",
      "Epoch 3, Batch 0, Loss: 0.08893869072198868\n",
      "Epoch 3, Batch 100, Loss: 0.13808520138263702\n",
      "Epoch 3, Batch 200, Loss: 0.08536374568939209\n",
      "Epoch 3, Batch 300, Loss: 0.0020899309311062098\n",
      "Epoch 3, Batch 400, Loss: 0.0017100177938118577\n",
      "Epoch 3, Batch 500, Loss: 0.01714247465133667\n",
      "Epoch 3, Batch 600, Loss: 0.009382572025060654\n",
      "Epoch 3, Batch 700, Loss: 0.0042054010555148125\n",
      "Epoch 3, Batch 800, Loss: 0.011750529520213604\n",
      "Epoch 3, Batch 900, Loss: 0.003498774953186512\n",
      "Epoch 3, Batch 1000, Loss: 0.00046780635602772236\n",
      "Epoch 3, Batch 1100, Loss: 0.04620619863271713\n",
      "Epoch 3, Batch 1200, Loss: 0.000581976433750242\n",
      "Epoch 3, Batch 1300, Loss: 0.030451618134975433\n",
      "Epoch 3, Batch 1400, Loss: 0.09989018738269806\n",
      "Epoch 3, Batch 1500, Loss: 0.0083250030875206\n",
      "Epoch 3, Batch 1600, Loss: 0.01640920341014862\n"
     ]
    }
   ],
   "source": [
    "def test(model, test_set_load, loss_func):\n",
    "    model.eval()               #Set the model to evaluation mode\n",
    "    test_correct = 0           #Initialise variables to keep track of correct predictions and total samples\n",
    "    test_total = 0\n",
    "   \n",
    "    #Disable gradient calculation during testing\n",
    "    with torch.no_grad():\n",
    "        #Iterate over batches in the test set\n",
    "        for test_feat, test_label in test_set_load:\n",
    "            test_outputs = model(test_feat)                   #Forward pass: compute the output predictions by passing the test features\n",
    "            \n",
    "            #Compare the predicted labels with the true labels\n",
    "            _, predicted = torch.max(test_outputs.data, 1)\n",
    "            \n",
    "            #Count correct predictions and total samples\n",
    "            test_total += test_label.size(0)\n",
    "            test_correct += (predicted == test_label).sum().item()\n",
    "    \n",
    "    # Calculate test set accuracy\n",
    "    test_set_accuracy = test_correct / test_total\n",
    "\n",
    "    return test_set_accuracy\n",
    "\n",
    "#Set the number of epochs\n",
    "num_epochs = 50\n",
    "\n",
    "# Train the model and obtain training and validation metrics(accuracy/loss)\n",
    "train_set_losses, train_set_accuracies, val_set_losses,val_set_accuracies = train(num_epochs, model, train_set_load, val_set_load, loss_func, optimizer)\n",
    "\n",
    "#DataLoader for test_data with a batch size of 32 and no shuffling\n",
    "test_set_load = DataLoader(test_data, batch_size=32, shuffle=False)\n",
    "\n",
    "#Evaluate the model on the test dataset using the test function\n",
    "test_set_accuracy = test(model, test_set_load, loss_func)"
   ]
  },
  {
   "cell_type": "markdown",
   "metadata": {
    "id": "-di4jA_VHwkA"
   },
   "source": [
    "## Loss and accuracy reporting (2 marks)\n",
    "Plot the training and validation loss and accuracy curves. Report the accuracy of your model on the test set.\n",
    "\n",
    "**Remember that your plots must have axes labels and a title. If more than one variable is displayed on the same plot, you must include a legend.**"
   ]
  },
  {
   "cell_type": "code",
   "execution_count": 16,
   "metadata": {
    "id": "FI0chEmLHwkA"
   },
   "outputs": [
    {
     "data": {
      "image/png": "[encoded data removed]",
      "text/plain": [
       "<Figure size 864x288 with 2 Axes>"
      ]
     },
     "metadata": {
      "needs_background": "light"
     },
     "output_type": "display_data"
    }
   ],
   "source": [
    "# Your code here\n",
    "def plot_curves(train_set_losses, train_set_accuracies, val_set_losses,val_set_accuracies):\n",
    "    #Function to plot training and validation loss and accuracy curves\n",
    "    \n",
    "    epoch_num = range(1, len(train_set_losses) + 1)\n",
    "\n",
    "    plt.figure(figsize=(12, 4))               #Create a figure with two subplots \n",
    "\n",
    "    #Plot Training and Validation Loss\n",
    "    plt.subplot(1, 2, 1)\n",
    "    plt.plot(epoch_num, train_set_losses, label='Training Loss')\n",
    "    plt.plot(epoch_num, val_set_losses, label='Validation Loss')\n",
    "    plt.xlabel('Epoch')\n",
    "    plt.ylabel('Loss')\n",
    "    plt.legend()\n",
    "    plt.title('Training and Validation Loss')\n",
    "\n",
    "    #Plot Training and Validation Accuracy \n",
    "    plt.subplot(1, 2, 2)\n",
    "    plt.plot(epoch_num, train_set_accuracies, label='Training Accuracy')\n",
    "    plt.plot(epoch_num, val_set_accuracies, label='Validation Accuracy')\n",
    "    plt.xlabel('Epoch')\n",
    "    plt.ylabel('Accuracy')\n",
    "    plt.legend()\n",
    "    plt.title('Training and Validation Accuracy')\n",
    "\n",
    "    plt.show()\n",
    "\n",
    "#Plotting the curves\n",
    "plot_curves(train_set_losses, train_set_accuracies, val_set_losses,val_set_accuracies)"
   ]
  },
  {
   "cell_type": "code",
   "execution_count": 18,
   "metadata": {
    "id": "CC_za2SoHwkA"
   },
   "outputs": [
    {
     "name": "stdout",
     "output_type": "stream",
     "text": [
      "Test Set Accuracy: 0.9887\n"
     ]
    }
   ],
   "source": [
    "# Print out test accuracy\n",
    "print('Test Set Accuracy:',test_set_accuracy)"
   ]
  }
 ],
 "metadata": {
  "colab": {
   "provenance": []
  },
  "kernelspec": {
   "display_name": "Python 3",
   "language": "python",
   "name": "python3"
  },
  "language_info": {
   "codemirror_mode": {
    "name": "ipython",
    "version": 3
   },
   "file_extension": ".py",
   "mimetype": "text/x-python",
   "name": "python",
   "nbconvert_exporter": "python",
   "pygments_lexer": "ipython3",
   "version": "3.7.6"
  }
 },
 "nbformat": 4,
 "nbformat_minor": 4
}
